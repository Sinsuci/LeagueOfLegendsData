{
 "cells": [
  {
   "cell_type": "code",
   "execution_count": null,
   "metadata": {},
   "outputs": [],
   "source": [
    "#Input nom jungler\n",
    "\n",
    "Ennemy_jungler = input(\"Ennemy jungler : \")\n",
    "\n",
    "#Faire liste avec proposition de champions uniquement jungler\n",
    "\n",
    "\n",
    "web = \"https://www.leagueofgraphs.com/fr/champions/jungle-paths/%s/euw/sr-ranked\" %Ennemy_jungler\n",
    "print(web)\n"
   ]
  },
  {
   "cell_type": "markdown",
   "metadata": {},
   "source": [
    "# Get HTML"
   ]
  },
  {
   "cell_type": "code",
   "execution_count": null,
   "metadata": {},
   "outputs": [],
   "source": [
    "import requests\n",
    "\n",
    "url = \"https://www.leagueofgraphs.com/fr/champions/jungle-paths/diana/euw/sr-ranked/\"\n",
    "headers = {'User-Agent': 'Mozilla/5.0 (Windows NT 10.0; Win64; x64) AppleWebKit/537.36 (KHTML, like Gecko) Chrome/97.0.4692.71 Safari/537.36', 'referer': 'https://...'}\n",
    "result = requests.get(url, headers=headers)\n",
    "page = result.content.decode()\n",
    "\n"
   ]
  },
  {
   "cell_type": "markdown",
   "metadata": {},
   "source": [
    "# Get Values"
   ]
  },
  {
   "cell_type": "code",
   "execution_count": null,
   "metadata": {},
   "outputs": [],
   "source": [
    "from bs4 import BeautifulSoup\n",
    "import requests\n",
    "\n",
    "\n",
    "soup = BeautifulSoup(page)\n",
    "results1 = soup.find_all('table',attrs={'class':\"data_table sortable_table\"})\n",
    "\n",
    "print(results1[0]) #Coté bleu\n",
    "print(\"__________________________________________________________\")\n",
    "\n",
    "caca = results1[0].find_all('progressbar',attrs={\"data-value\"})\n",
    "print(caca)\n",
    "\n",
    "#print(results1) #Both side\n",
    "#print(results1[0]) #Coté bleu\n",
    "#print(results1[1]) #Coté rouge\n",
    "\n",
    "print(\"__________________________________________________________\")\n",
    "blue_wr = int(0.50*100)\n",
    "print(\"Blue :\", blue_wr)"
   ]
  },
  {
   "cell_type": "code",
   "execution_count": null,
   "metadata": {},
   "outputs": [],
   "source": [
    "from bs4 import BeautifulSoup\n",
    "import requests\n",
    "\n",
    "\n",
    "soup = BeautifulSoup(page)\n",
    "results1 = soup.find_all('table',attrs={'class':\"data_table sortable_table\"})\n",
    "\n",
    "print(results1[0])\n",
    "print(\"__________________________________________________________\")\n",
    "\n",
    "count = 0\n",
    "for i in results1[0] :\n",
    "    if len(i) > 1 :\n",
    "        print(\"len :\", len(i))\n",
    "        if count == 0 :\n",
    "            print(\"dodge premier\")\n",
    "        else :\n",
    "            print(i)\n",
    "            print(\"attrs : \",i.attrs)\n",
    "            a = i.find('im').attrs\n",
    "            print(\"attrs v2 : \",a)\n",
    "            print(\"take nom : \")\n",
    "            print(\"take wr : \")\n",
    "        count = count + 1\n",
    "\n"
   ]
  },
  {
   "cell_type": "code",
   "execution_count": null,
   "metadata": {},
   "outputs": [],
   "source": [
    "from bs4 import BeautifulSoup\n",
    "import requests\n",
    "from html.parser import HTMLParser\n",
    "\n",
    "parser = HTMLParser()\n",
    "\n",
    "url = \"https://www.leagueofgraphs.com/fr/champions/jungle-paths/diana/euw/sr-ranked/\"\n",
    "headers = {'User-Agent': 'Mozilla/5.0 (Windows NT 10.0; Win64; x64) AppleWebKit/537.36 (KHTML, like Gecko) Chrome/97.0.4692.71 Safari/537.36', 'referer': 'https://...'}\n",
    "result = requests.get(url, headers=headers)\n",
    "page = result.content.decode()\n",
    "\n",
    "\n",
    "soup = BeautifulSoup(page)\n",
    "results = soup.find('td',attrs={'class':\"text-center\"})\n",
    "print(results,'\\n')\n",
    "\n",
    "results = soup.find('img')\n",
    "print(results,'\\n')\n",
    "\n",
    "print(results.attrs,'\\n')\n",
    "\n",
    "print(results['src'],'\\n')\n"
   ]
  }
 ],
 "metadata": {
  "interpreter": {
   "hash": "05b9e537f2b59cbc3c12f6cb9786b379bafa4982103b2a2019705f706668400c"
  },
  "kernelspec": {
   "display_name": "Python 3.9.7 64-bit ('base': conda)",
   "language": "python",
   "name": "python3"
  },
  "language_info": {
   "codemirror_mode": {
    "name": "ipython",
    "version": 3
   },
   "file_extension": ".py",
   "mimetype": "text/x-python",
   "name": "python",
   "nbconvert_exporter": "python",
   "pygments_lexer": "ipython3",
   "version": "3.9.7"
  },
  "orig_nbformat": 4
 },
 "nbformat": 4,
 "nbformat_minor": 2
}
